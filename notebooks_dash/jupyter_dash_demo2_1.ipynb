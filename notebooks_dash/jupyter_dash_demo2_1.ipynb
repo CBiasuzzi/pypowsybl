{
 "cells": [
  {
   "cell_type": "code",
   "execution_count": 1,
   "metadata": {},
   "outputs": [],
   "source": [
    "from glob import glob\n",
    "import json\n",
    "import os\n",
    "import pandas as pd\n",
    "\n",
    "import pypowsybl as pp\n",
    "\n",
    "from IPython.core.display import display,SVG,HTML\n",
    "\n",
    "import dash\n",
    "import dash_core_components as dcc\n",
    "import dash_html_components as html\n",
    "from dash.dependencies import Input, Output\n",
    "\n",
    "import plotly.graph_objects as go\n",
    "\n",
    "from dash_canvas import DashCanvas\n",
    "\n",
    "from jupyter_dash import JupyterDash"
   ]
  },
  {
   "cell_type": "code",
   "execution_count": 2,
   "metadata": {},
   "outputs": [],
   "source": [
    "# write width and height attributes in SDL's SVG\n",
    "def fixSvg(svgs, width=700, height=700):\n",
    "    SVG_HEADER1 = '<svg xmlns=\\\"http://www.w3.org/2000/svg\\\">'\n",
    "    SVG_HEADER2 = '<svg xmlns=\\\"http://www.w3.org/2000/svg\\\" width=\\\"{w:}px\\\" height=\\\"{h:}px\\\" >'\n",
    "    return svgs.replace(SVG_HEADER1, SVG_HEADER2.format(w=width, h=height))\n"
   ]
  },
  {
   "cell_type": "code",
   "execution_count": 3,
   "metadata": {},
   "outputs": [],
   "source": [
    "# save the SVG string to FS\n",
    "def saveSvg(svg_string, filename):\n",
    "    svgFile = open(filename, \"wt\")\n",
    "    n = svgFile.write(svg_string)\n",
    "    svgFile.close() "
   ]
  },
  {
   "cell_type": "code",
   "execution_count": 4,
   "metadata": {},
   "outputs": [],
   "source": [
    "# get a network\n",
    "n = pp.network.create_four_substations_node_breaker_network()\n",
    "\n",
    "subId = 'S1'\n",
    "vlid = 'S1VL1'"
   ]
  },
  {
   "cell_type": "code",
   "execution_count": 5,
   "metadata": {},
   "outputs": [],
   "source": [
    "# write the SVGs to the asset folders (directory served by dash, by default)\n",
    "vlSvg1 = fixSvg(str(n.get_single_line_diagram(vlid)), width=800, height=800);\n",
    "saveSvg(vlSvg1, 'assets/vl1_1.svg')\n",
    "\n",
    "subSvg2 = fixSvg(str(n.get_single_line_diagram(subId)), width=1700, height=800);\n",
    "saveSvg(subSvg2, 'assets/sub2_1.svg')\n",
    "\n",
    "filenames = sorted(glob(os.path.join('assets', '*.svg')))\n"
   ]
  },
  {
   "cell_type": "code",
   "execution_count": 6,
   "metadata": {},
   "outputs": [
    {
     "data": {
      "text/html": [
       "\n",
       "        <iframe\n",
       "            width=\"100%\"\n",
       "            height=\"1200\"\n",
       "            src=\"http://127.0.0.1:8050/\"\n",
       "            frameborder=\"0\"\n",
       "            allowfullscreen\n",
       "        ></iframe>\n",
       "        "
      ],
      "text/plain": [
       "<IPython.lib.display.IFrame at 0x7f0720afa190>"
      ]
     },
     "metadata": {},
     "output_type": "display_data"
    }
   ],
   "source": [
    "#show SVG - plotly and Jupyter-dash\n",
    "\n",
    "app = JupyterDash(__name__)\n",
    "\n",
    "app.layout = html.Div([\n",
    "    html.Label([ \n",
    "        \"Networks SLDs\", \n",
    "        dcc.Dropdown(\n",
    "            id='filenames-dropdown', clearable=False,\n",
    "            value=filenames[0], options=[{'label': c, 'value': c}\n",
    "                                         for c in filenames])\n",
    "    ]),\n",
    "    dcc.Graph(id=\"fig-sdl\", \n",
    "           config = dict({'displayModeBar': True, 'scrollZoom': True, 'displaylogo': False, \n",
    "                          'modeBarButtonsToRemove': ['toImage', 'zoom', 'autoscale', 'resetscale']}))\n",
    "])\n",
    "\n",
    "@app.callback(\n",
    "    Output('fig-sdl', 'figure'),\n",
    "    [Input(\"filenames-dropdown\", \"value\")]\n",
    ")\n",
    "def update_figure(filename):\n",
    "    fig = go.Figure()\n",
    "    fig.add_layout_image(\n",
    "        dict( source=filename, xref=\"x\",yref=\"y\", x=0, y=0, sizex=6, sizey=6,\n",
    "        xanchor=\"left\", yanchor=\"bottom\", opacity=1, layer=\"above\"\n",
    "        )\n",
    "    )\n",
    "    \n",
    "    fig.update_xaxes(showgrid=False, zeroline=False, rangemode=\"tozero\", showticklabels=False)\n",
    "    fig.update_yaxes(showgrid=False, zeroline=False, rangemode=\"tozero\", showticklabels=False)\n",
    "    fig.update_layout(dragmode=\"pan\",  autosize=False, width=950, height=950, \n",
    "                     margin={'l': 0, 'b': 0, 't': 0, 'r': 0})\n",
    "    return fig;\n",
    "\n",
    "app.run_server(mode='inline', height='1200', port=8051)"
   ]
  },
  {
   "cell_type": "code",
   "execution_count": null,
   "metadata": {},
   "outputs": [],
   "source": []
  }
 ],
 "metadata": {
  "kernelspec": {
   "display_name": "Python 3 (ipykernel)",
   "language": "python",
   "name": "python3"
  },
  "language_info": {
   "codemirror_mode": {
    "name": "ipython",
    "version": 3
   },
   "file_extension": ".py",
   "mimetype": "text/x-python",
   "name": "python",
   "nbconvert_exporter": "python",
   "pygments_lexer": "ipython3",
   "version": "3.8.6"
  }
 },
 "nbformat": 4,
 "nbformat_minor": 1
}
