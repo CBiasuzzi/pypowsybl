{
 "cells": [
  {
   "cell_type": "code",
   "execution_count": null,
   "metadata": {},
   "outputs": [],
   "source": [
    "import pypowsybl as pp\n",
    "import plotly.graph_objects as go"
   ]
  },
  {
   "cell_type": "code",
   "execution_count": null,
   "metadata": {},
   "outputs": [],
   "source": [
    "# write width and height attributes in SDL's SVG\n",
    "def fixSvg(svgs, width=700, height=700):\n",
    "    SVG_HEADER1 = '<svg xmlns=\\\"http://www.w3.org/2000/svg\\\">'\n",
    "    SVG_HEADER2 = '<svg xmlns=\\\"http://www.w3.org/2000/svg\\\" width=\\\"{w:}px\\\" height=\\\"{h:}px\\\" >'\n",
    "    return svgs.replace(SVG_HEADER1, SVG_HEADER2.format(w=width, h=height))"
   ]
  },
  {
   "cell_type": "code",
   "execution_count": null,
   "metadata": {},
   "outputs": [],
   "source": [
    "# save the SVG string to the file system\n",
    "def saveSvg(svg_string, filename):\n",
    "    svgFile = open(filename, \"wt\")\n",
    "    n = svgFile.write(svg_string)\n",
    "    svgFile.close() "
   ]
  },
  {
   "cell_type": "code",
   "execution_count": null,
   "metadata": {
    "scrolled": false
   },
   "outputs": [],
   "source": [
    "# display the SVG in a plotly figure (interactive)\n",
    "def showSvg(filename, img_width=1700, img_height = 800):\n",
    "\n",
    "    scale_factor = 1\n",
    "    fig = go.Figure()\n",
    "    fig.add_layout_image(\n",
    "        dict( source=filename, \n",
    "             xref=\"x\",yref=\"y\", x=0, y=0, \n",
    "             sizex=img_width * scale_factor, sizey=img_height * scale_factor,\n",
    "             opacity=1, layer=\"above\")\n",
    "    )\n",
    "\n",
    "    fig.update_xaxes(showgrid=False, zeroline=False, rangemode=\"tozero\", showticklabels=False, range=[0, img_width * scale_factor])\n",
    "    fig.update_yaxes(showgrid=False, zeroline=False, rangemode=\"tozero\", showticklabels=False, range=[img_height * scale_factor, 0])\n",
    "\n",
    "    fig.update_layout(dragmode=\"pan\",  autosize=False, \n",
    "                  width=950, height=500, \n",
    "                  margin={'l': 0, 'b': 0, 't': 0, 'r': 0})\n",
    "\n",
    "    fig.show(config = dict({'displayModeBar': True, 'scrollZoom': True, 'displaylogo': False, \n",
    "                          'modeBarButtonsToRemove': ['toImage','zoom', 'autoscale', 'resetscale'], 'doubleClick': 'reset',\n",
    "                            'toImageButtonOptions': { 'format': 'svg',  'filename': 'sld', 'height': img_width, \n",
    "                                                     'width': img_height, 'scale': 1}}))"
   ]
  },
  {
   "cell_type": "code",
   "execution_count": null,
   "metadata": {},
   "outputs": [],
   "source": [
    "# get a network\n",
    "n = pp.network.create_four_substations_node_breaker_network()"
   ]
  },
  {
   "cell_type": "code",
   "execution_count": null,
   "metadata": {},
   "outputs": [],
   "source": [
    "# write Voltage level, Substation SVGs to the asset folders\n",
    "vlid = 'S1VL1'\n",
    "vlSvg1 = fixSvg(str(n.get_single_line_diagram(vlid)), width=800, height=800);\n",
    "saveSvg(vlSvg1, 'assets/s1vl1.svg')\n",
    "\n",
    "subId = 'S1'\n",
    "subSvg2 = fixSvg(str(n.get_single_line_diagram(subId)), width=1700, height=800);\n",
    "saveSvg(subSvg2, 'assets/s1.svg')"
   ]
  },
  {
   "cell_type": "code",
   "execution_count": null,
   "metadata": {},
   "outputs": [],
   "source": [
    "#display the VL\n",
    "showSvg('assets/s1vl1.svg')"
   ]
  },
  {
   "cell_type": "code",
   "execution_count": null,
   "metadata": {},
   "outputs": [],
   "source": [
    "#display the substation SVG\n",
    "showSvg('assets/s1.svg')"
   ]
  },
  {
   "cell_type": "code",
   "execution_count": null,
   "metadata": {},
   "outputs": [],
   "source": []
  }
 ],
 "metadata": {
  "kernelspec": {
   "display_name": "Python 3 (ipykernel)",
   "language": "python",
   "name": "python3"
  },
  "language_info": {
   "codemirror_mode": {
    "name": "ipython",
    "version": 3
   },
   "file_extension": ".py",
   "mimetype": "text/x-python",
   "name": "python",
   "nbconvert_exporter": "python",
   "pygments_lexer": "ipython3",
   "version": "3.8.6"
  }
 },
 "nbformat": 4,
 "nbformat_minor": 1
}
