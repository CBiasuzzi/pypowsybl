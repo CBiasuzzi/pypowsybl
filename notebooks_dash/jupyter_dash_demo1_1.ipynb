{
 "cells": [
  {
   "cell_type": "code",
   "execution_count": null,
   "metadata": {},
   "outputs": [],
   "source": [
    "from glob import glob\n",
    "import json\n",
    "import os\n",
    "import pandas as pd\n",
    "\n",
    "import pypowsybl as pp\n",
    "\n",
    "from IPython.core.display import display,SVG,HTML\n",
    "\n",
    "import dash\n",
    "import dash_core_components as dcc\n",
    "import dash_html_components as html\n",
    "from dash.dependencies import Input, Output\n",
    "\n",
    "import plotly.graph_objects as go\n",
    "\n",
    "from dash_canvas import DashCanvas\n",
    "\n",
    "from jupyter_dash import JupyterDash"
   ]
  },
  {
   "cell_type": "code",
   "execution_count": null,
   "metadata": {},
   "outputs": [],
   "source": [
    "# write width and height attributes in SDL's SVG\n",
    "def fixSvg(svgs, width=700, height=700):\n",
    "    SVG_HEADER1 = '<svg xmlns=\\\"http://www.w3.org/2000/svg\\\">'\n",
    "    SVG_HEADER2 = '<svg xmlns=\\\"http://www.w3.org/2000/svg\\\" width=\\\"{w:}px\\\" height=\\\"{h:}px\\\" >'\n",
    "    return svgs.replace(SVG_HEADER1, SVG_HEADER2.format(w=width, h=height))\n"
   ]
  },
  {
   "cell_type": "code",
   "execution_count": null,
   "metadata": {},
   "outputs": [],
   "source": [
    "# save the SVG string to FS\n",
    "def saveSvg(svg_string, filename):\n",
    "    svgFile = open(filename, \"wt\")\n",
    "    n = svgFile.write(svg_string)\n",
    "    svgFile.close() "
   ]
  },
  {
   "cell_type": "code",
   "execution_count": null,
   "metadata": {},
   "outputs": [],
   "source": [
    "# get a network\n",
    "n = pp.network.create_four_substations_node_breaker_network()\n",
    "\n",
    "subId = 'S1'\n",
    "vlid = 'S1VL1'"
   ]
  },
  {
   "cell_type": "code",
   "execution_count": null,
   "metadata": {},
   "outputs": [],
   "source": [
    "# write the SVGs to the asset folders (directory served by dash, by default)\n",
    "vlSvg1 = fixSvg(str(n.get_single_line_diagram(vlid)), width=800, height=800);\n",
    "saveSvg(vlSvg1, 'assets/vl1_1.svg')\n",
    "\n",
    "subSvg2 = fixSvg(str(n.get_single_line_diagram(subId)), width=1700, height=800);\n",
    "saveSvg(subSvg2, 'assets/sub2_1.svg')\n",
    "\n",
    "filenames = sorted(glob(os.path.join('assets', '*.svg')))\n",
    "\n"
   ]
  },
  {
   "cell_type": "code",
   "execution_count": null,
   "metadata": {
    "scrolled": false
   },
   "outputs": [],
   "source": [
    "#show SVG - DashCanvas and Jupyter-dash\n",
    "\n",
    "app = JupyterDash(__name__)\n",
    "\n",
    "app.layout = html.Div([\n",
    "        html.Div([\n",
    "            dcc.Dropdown(\n",
    "            id='filenames-dropdown2', clearable=False,\n",
    "            value=filenames[1], options=[{'label': c, 'value': c}\n",
    "                                         for c in filenames])\n",
    "        ], className=\"three columns\"),\n",
    "        html.Div([\n",
    "        DashCanvas(id='canvas_image',\n",
    "                hide_buttons=['line', 'pencil', 'rectangle', 'undo', 'redo', 'select', 'Save'],\n",
    "                tool='pan',\n",
    "                width=900,\n",
    "                height=850)\n",
    "        ], className=\"cust-dash-canvas\")\n",
    "        ])\n",
    "\n",
    "@app.callback(\n",
    "    Output('canvas_image', 'image_content'),\n",
    "    [Input(\"filenames-dropdown2\", \"value\")]\n",
    ")\n",
    "def update_canvas_filename(value):\n",
    "    return value\n",
    "\n",
    "app.run_server(mode='inline', height='600')"
   ]
  },
  {
   "cell_type": "code",
   "execution_count": null,
   "metadata": {},
   "outputs": [],
   "source": []
  }
 ],
 "metadata": {
  "kernelspec": {
   "display_name": "Python 3 (ipykernel)",
   "language": "python",
   "name": "python3"
  },
  "language_info": {
   "codemirror_mode": {
    "name": "ipython",
    "version": 3
   },
   "file_extension": ".py",
   "mimetype": "text/x-python",
   "name": "python",
   "nbconvert_exporter": "python",
   "pygments_lexer": "ipython3",
   "version": "3.8.6"
  }
 },
 "nbformat": 4,
 "nbformat_minor": 1
}
